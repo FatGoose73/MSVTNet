{
 "cells": [
  {
   "cell_type": "markdown",
   "metadata": {},
   "source": [
    "# import dpeeg and set global seed"
   ]
  },
  {
   "cell_type": "code",
   "execution_count": null,
   "metadata": {
    "metadata": {}
   },
   "outputs": [],
   "source": [
    "import dpeeg\n",
    "from dpeeg.models import MSVTNet, JointCrossEntoryLoss\n",
    "\n",
    "dpeeg.set_seed()\n",
    "print(dpeeg.__version__)"
   ]
  },
  {
   "cell_type": "markdown",
   "metadata": {},
   "source": [
    "# Subject-Dependent & Session-Dependent"
   ]
  },
  {
   "cell_type": "markdown",
   "metadata": {},
   "source": [
    "## bciciv2a"
   ]
  },
  {
   "cell_type": "code",
   "execution_count": null,
   "metadata": {
    "metadata": {}
   },
   "outputs": [],
   "source": [
    "# from dpeeg.data import datasets, transforms\n",
    "\n",
    "# trans = transforms.ComposeTransforms(\n",
    "#     transforms.Normalization(),\n",
    "#     transforms.Augmentation('segmentation_and_reconstruction', multiply=1),\n",
    "#     transforms.Unsqueeze()\n",
    "# )\n",
    "\n",
    "# dataset = datasets.BCICIV2A(transforms=trans, mode='single_ses')\n",
    "\n",
    "# net = MSVTNet(nCh=22, nTime=1000, cls=4)\n",
    "# trainer = dpeeg.TrainClassifier(net, nGPU=1, batch_size=64, data_size=dataset.size, loss_fn=JointCrossEntoryLoss)\n",
    "# exp = dpeeg.KFold(trainer, out_folder='out')\n",
    "# results = exp.run(dataset, cls_name=dataset.cls_name, dataset_name='BCICIV2A_SD')"
   ]
  },
  {
   "cell_type": "markdown",
   "metadata": {},
   "source": [
    "## bciciv2b"
   ]
  },
  {
   "cell_type": "code",
   "execution_count": null,
   "metadata": {
    "metadata": {}
   },
   "outputs": [],
   "source": [
    "# from dpeeg.data import datasets, transforms\n",
    "\n",
    "# trans = transforms.ComposeTransforms(\n",
    "#     transforms.Normalization(),\n",
    "#     transforms.Augmentation('segmentation_and_reconstruction', multiply=1),\n",
    "#     transforms.Unsqueeze()\n",
    "# )\n",
    "\n",
    "# dataset = datasets.BCICIV2B(transforms=trans, mode='single_ses', test_sessions=[1])\n",
    "\n",
    "# net = MSVTNet(nCh=3, nTime=1000, cls=2)\n",
    "# trainer = dpeeg.TrainClassifier(net, nGPU=0, loss_fn=JointCrossEntoryLoss, batch_size=64)\n",
    "# exp = dpeeg.KFold(trainer, out_folder='out')\n",
    "# results = exp.run(dataset, cls_name=dataset.cls_name, dataset_name='BCICIV2B_SD')"
   ]
  },
  {
   "cell_type": "markdown",
   "metadata": {},
   "source": [
    "## openbmi"
   ]
  },
  {
   "cell_type": "code",
   "execution_count": null,
   "metadata": {
    "metadata": {}
   },
   "outputs": [],
   "source": [
    "# from dpeeg.data import load, transforms\n",
    "# from scipy import signal\n",
    "\n",
    "# lowcut = 4\n",
    "# highcut = 30\n",
    "# fs = 250\n",
    "# order = 5\n",
    "# def butter_bandpass_filter(data):\n",
    "#     nyq = 0.5 * fs\n",
    "#     low = lowcut / nyq\n",
    "#     high = highcut / nyq\n",
    "#     b, a = signal.butter(order, [low, high], btype='bandpass')\n",
    "#     y = signal.filtfilt(b, a, data)\n",
    "#     return y\n",
    "\n",
    "# trans = transforms.ComposeTransforms(\n",
    "#     transforms.ApplyFunc(butter_bandpass_filter),\n",
    "#     transforms.Augmentation('segmentation_and_reconstruction', multiply=1),\n",
    "#     transforms.Unsqueeze()\n",
    "# )\n",
    "\n",
    "# dataset = load('openbmi_session-dependent')\n",
    "# dataset = trans(dataset)\n",
    "# cls_name = ['right_hand', 'left_hand']\n",
    "\n",
    "# net = MSVTNet(nCh=20, nTime=1000, cls=2)\n",
    "# trainer = dpeeg.TrainClassifier(net, nGPU=0, loss_fn=JointCrossEntoryLoss, batch_size=64)\n",
    "# exp = dpeeg.KFold(trainer, out_folder='out')\n",
    "# results = exp.run(dataset, cls_name=cls_name, dataset_name='OpenBMI_SD')"
   ]
  },
  {
   "cell_type": "markdown",
   "metadata": {},
   "source": [
    "# Subject-Dependent & Session-Independent"
   ]
  },
  {
   "cell_type": "markdown",
   "metadata": {},
   "source": [
    "## bciciv2a"
   ]
  },
  {
   "cell_type": "code",
   "execution_count": null,
   "metadata": {
    "metadata": {}
   },
   "outputs": [],
   "source": [
    "# from dpeeg.data import datasets, transforms\n",
    "\n",
    "# trans = transforms.ComposeTransforms(\n",
    "#     transforms.Normalization(),\n",
    "#     transforms.Augmentation('segmentation_and_reconstruction', multiply=1),\n",
    "#     transforms.Unsqueeze()\n",
    "# )\n",
    "\n",
    "# dataset = datasets.BCICIV2A(transforms=trans)\n",
    "# net = MSVTNet()\n",
    "# trainer = dpeeg.TrainClassifier(net, nGPU=1, batch_size=128, data_size=dataset.size, loss_fn=JointCrossEntoryLoss)\n",
    "# exp = dpeeg.KFold(trainer, out_folder='out')\n",
    "# res = exp.run(dataset, dataset.cls_name, dataset_name='BCICIV2A_SI')"
   ]
  },
  {
   "cell_type": "markdown",
   "metadata": {},
   "source": [
    "## bciciv2b"
   ]
  },
  {
   "cell_type": "code",
   "execution_count": null,
   "metadata": {
    "metadata": {}
   },
   "outputs": [],
   "source": [
    "# from dpeeg.data import datasets, transforms\n",
    "\n",
    "# trans = transforms.ComposeTransforms(\n",
    "#     transforms.Normalization(),\n",
    "#     transforms.Augmentation('segmentation_and_reconstruction', multiply=1),\n",
    "#     transforms.Unsqueeze()\n",
    "# )\n",
    "\n",
    "# dataset = datasets.BCICIV2B(transforms=trans, test_sessions=[3, 4])\n",
    "\n",
    "# net = MSVTNet(nCh=3, nTime=1000, cls=2)\n",
    "# trainer = dpeeg.TrainClassifier(net, nGPU=0, lr=0.001, batch_size=128, data_size=dataset.size, loss_fn=JointCrossEntoryLoss)\n",
    "# exp = dpeeg.KFold(trainer, out_folder='out')\n",
    "# results = exp.run(dataset, dataset.cls_name, dataset_name='BCICIV2B_SI')"
   ]
  },
  {
   "cell_type": "markdown",
   "metadata": {},
   "source": [
    "## openbmi"
   ]
  },
  {
   "cell_type": "code",
   "execution_count": null,
   "metadata": {
    "metadata": {}
   },
   "outputs": [],
   "source": [
    "# from dpeeg.data import transforms, load\n",
    "# from scipy import signal\n",
    "\n",
    "# lowcut = 4\n",
    "# highcut = 30\n",
    "# fs = 250\n",
    "# order = 5\n",
    "# def butter_bandpass_filter(data):\n",
    "#     nyq = 0.5 * fs\n",
    "#     low = lowcut / nyq\n",
    "#     high = highcut / nyq\n",
    "#     b, a = signal.butter(order, [low, high], btype='bandpass')\n",
    "#     y = signal.filtfilt(b, a, data)\n",
    "#     return y\n",
    "\n",
    "# trans = transforms.ComposeTransforms(\n",
    "#     transforms.ApplyFunc(butter_bandpass_filter),\n",
    "#     transforms.Augmentation('segmentation_and_reconstruction', multiply=1),\n",
    "#     transforms.Unsqueeze()\n",
    "# )\n",
    "\n",
    "# dataset = load('openbmi_session-independent')\n",
    "# dataset = trans(dataset)\n",
    "# cls_name = ['right_hand', 'left_hand']\n",
    "\n",
    "# net = MSVTNet(nCh=20, nTime=1000, cls=2)\n",
    "# trainer = dpeeg.TrainClassifier(net, nGPU=1, lr=0.001, batch_size=128, loss_fn=JointCrossEntoryLoss)\n",
    "# exp = dpeeg.KFold(trainer, out_folder='out')\n",
    "# results = exp.run(dataset, cls_name=cls_name, dataset_name='OpenBMI_SI')"
   ]
  },
  {
   "cell_type": "markdown",
   "metadata": {},
   "source": [
    "# Subject-Indepednent"
   ]
  },
  {
   "cell_type": "markdown",
   "metadata": {},
   "source": [
    "## bcicciv2a"
   ]
  },
  {
   "cell_type": "code",
   "execution_count": null,
   "metadata": {
    "metadata": {}
   },
   "outputs": [],
   "source": [
    "# from dpeeg.data import datasets, transforms\n",
    "\n",
    "# trans = transforms.ComposeTransforms(\n",
    "#     transforms.Normalization(),\n",
    "#     transforms.Unsqueeze()\n",
    "# )\n",
    "\n",
    "# dataset = datasets.BCICIV2A(transforms=trans)\n",
    "\n",
    "# net = MSVTNet(Pc=0.1, Pt=0.3, layers=1)\n",
    "# trainer = dpeeg.TrainClassifier(net, nGPU=0, lr=0.002, batch_size=512, data_size=dataset.size, loss_fn=JointCrossEntoryLoss)\n",
    "# exp = dpeeg.LOSO_HO(trainer, out_folder='out', max_epochs_s1=500, no_increase_epochs=40, max_epochs_s2=200)\n",
    "# results = exp.run(dataset, cls_name=dataset.cls_name)"
   ]
  },
  {
   "cell_type": "markdown",
   "metadata": {},
   "source": [
    "## bciciv2b"
   ]
  },
  {
   "cell_type": "code",
   "execution_count": null,
   "metadata": {
    "metadata": {}
   },
   "outputs": [],
   "source": [
    "# from dpeeg.data import transforms, datasets\n",
    "\n",
    "# trans = transforms.ComposeTransforms(\n",
    "#     transforms.Normalization(),\n",
    "#     transforms.Unsqueeze(),\n",
    "# )\n",
    "\n",
    "# dataset = datasets.BCICIV2B(transforms=trans, test_sessions=[3, 4])\n",
    "\n",
    "# net = MSVTNet(nCh=3, nTime=1000, cls=2, Pc=0.1, Pt=0.3, layers=1)\n",
    "# trainer = dpeeg.TrainClassifier(net, nGPU=1, data_size=dataset.size, lr=0.002, batch_size=512, loss_fn=JointCrossEntoryLoss)\n",
    "# exp = dpeeg.LOSO_HO(trainer, out_folder='out', max_epochs_s1=500, no_increase_epochs=40, max_epochs_s2=200)\n",
    "# res = exp.run(dataset, dataset.cls_name)"
   ]
  },
  {
   "cell_type": "markdown",
   "metadata": {},
   "source": [
    "## openbmi"
   ]
  },
  {
   "cell_type": "code",
   "execution_count": null,
   "metadata": {
    "metadata": {}
   },
   "outputs": [],
   "source": [
    "# from dpeeg.data import transforms, load\n",
    "# from scipy import signal\n",
    "\n",
    "\n",
    "# lowcut = 4\n",
    "# highcut = 30\n",
    "# fs = 250\n",
    "# order = 5\n",
    "# def butter_bandpass_filter(data):\n",
    "#     nyq = 0.5 * fs\n",
    "#     low = lowcut / nyq\n",
    "#     high = highcut / nyq\n",
    "#     b, a = signal.butter(order, [low, high], btype='bandpass')\n",
    "#     y = signal.filtfilt(b, a, data)\n",
    "#     return y\n",
    "\n",
    "# trans = transforms.ComposeTransforms(\n",
    "#     transforms.ApplyFunc(butter_bandpass_filter),\n",
    "#     transforms.Unsqueeze()\n",
    "# )\n",
    "\n",
    "# dataset = load('openbmi_session-independent')\n",
    "# dataset = trans(dataset)\n",
    "# cls_name = ['right_hand', 'left_hand']\n",
    "\n",
    "# net = MSVTNet(nCh=20, nTime=1000, cls=2, Pc=0.1, Pt=0.3, layers=1)\n",
    "# trainer = dpeeg.TrainClassifier(net, nGPU=0, lr=0.002, batch_size=512, loss_fn=JointCrossEntoryLoss)\n",
    "# exp = dpeeg.LOSO_HO(trainer, out_folder='out', max_epochs_s1=500, no_increase_epochs=40, max_epochs_s2=200)\n",
    "# results = exp.run(dataset, cls_name, dataset_name='OpenBMI')"
   ]
  }
 ],
 "metadata": {
  "kernelspec": {
   "display_name": "bci",
   "language": "python",
   "name": "python3"
  },
  "language_info": {
   "codemirror_mode": {
    "name": "ipython",
    "version": 3
   },
   "file_extension": ".py",
   "mimetype": "text/x-python",
   "name": "python",
   "nbconvert_exporter": "python",
   "pygments_lexer": "ipython3",
   "version": "3.10.13"
  }
 },
 "nbformat": 4,
 "nbformat_minor": 2
}
