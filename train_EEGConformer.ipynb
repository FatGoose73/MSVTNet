{
 "cells": [
  {
   "cell_type": "markdown",
   "metadata": {},
   "source": [
    "# import dpeeg and set global seed"
   ]
  },
  {
   "cell_type": "code",
   "execution_count": null,
   "metadata": {
    "metadata": {}
   },
   "outputs": [],
   "source": [
    "import dpeeg\n",
    "from dpeeg.models import EEGConformer\n",
    "\n",
    "dpeeg.set_seed()\n",
    "print(dpeeg.__version__)"
   ]
  },
  {
   "cell_type": "code",
   "execution_count": null,
   "metadata": {
    "metadata": {}
   },
   "outputs": [],
   "source": [
    "from scipy import signal\n",
    "\n",
    "lowcut = 4\n",
    "highcut = 40\n",
    "fs = 250\n",
    "order = 5\n",
    "def butter_bandpass_filter(data):\n",
    "    nyq = 0.5 * fs\n",
    "    low = lowcut / nyq\n",
    "    high = highcut / nyq\n",
    "    b, a = signal.butter(order, [low, high], btype='bandpass')\n",
    "    y = signal.filtfilt(b, a, data)\n",
    "    return y"
   ]
  },
  {
   "cell_type": "markdown",
   "metadata": {},
   "source": [
    "# Subject-Dependent & Session-Dependent"
   ]
  },
  {
   "cell_type": "markdown",
   "metadata": {},
   "source": [
    "## bciciv2a"
   ]
  },
  {
   "cell_type": "code",
   "execution_count": null,
   "metadata": {
    "metadata": {}
   },
   "outputs": [],
   "source": [
    "# from dpeeg.data import transforms, datasets\n",
    "\n",
    "# trans = transforms.ComposeTransforms(\n",
    "#     transforms.Normalization(),\n",
    "#     transforms.ApplyFunc(butter_bandpass_filter),\n",
    "#     transforms.Augmentation('segmentation_and_reconstruction', multiply=1),\n",
    "#     transforms.Unsqueeze(),\n",
    "# )\n",
    "\n",
    "# dataset = datasets.BCICIV2A(mode='single_ses', transforms=trans)\n",
    "\n",
    "# net = EEGConformer(nCh=22, nTime=1000, cls=4)\n",
    "# trainer = dpeeg.TrainClassifier(net, nGPU=1, lr=0.0001, data_size=dataset.size, batch_size=64)\n",
    "# exp = dpeeg.KFold(trainer, out_folder='out')\n",
    "# res = exp.run(dataset, dataset.cls_name, dataset_name='BCICIV2A_SD')"
   ]
  },
  {
   "cell_type": "markdown",
   "metadata": {},
   "source": [
    "## bciciv2b"
   ]
  },
  {
   "cell_type": "code",
   "execution_count": null,
   "metadata": {
    "metadata": {}
   },
   "outputs": [],
   "source": [
    "# from dpeeg.data import transforms, datasets\n",
    "\n",
    "# trans = transforms.ComposeTransforms(\n",
    "#     transforms.Normalization(),\n",
    "#     # Note: Experimental results: No filter preprocessing operation will cause the decoding performance to drop to: 63.40%±14.78\n",
    "#     transforms.ApplyFunc(butter_bandpass_filter),\n",
    "#     transforms.Augmentation('segmentation_and_reconstruction'),\n",
    "#     transforms.Unsqueeze(),\n",
    "# )\n",
    "\n",
    "# dataset = datasets.BCICIV2B(transforms=trans, mode='single_ses', test_sessions=[1])\n",
    "\n",
    "# net = EEGConformer(nCh=3, nTime=1000, cls=2)\n",
    "# trainer = dpeeg.TrainClassifier(net, nGPU=1, lr=0.0001, data_size=dataset.size, batch_size=64)\n",
    "# exp = dpeeg.KFold(trainer, out_folder='out')\n",
    "# res = exp.run(dataset, dataset.cls_name, dataset_name='BCICIV2B_SD')"
   ]
  },
  {
   "cell_type": "markdown",
   "metadata": {},
   "source": [
    "## openbmi"
   ]
  },
  {
   "cell_type": "code",
   "execution_count": null,
   "metadata": {
    "metadata": {}
   },
   "outputs": [],
   "source": [
    "# from dpeeg.data import transforms, load\n",
    "\n",
    "# trans = transforms.ComposeTransforms(\n",
    "#     transforms.ApplyFunc(butter_bandpass_filter),\n",
    "#     transforms.Augmentation('segmentation_and_reconstruction', multiply=1),\n",
    "#     transforms.Unsqueeze()\n",
    "# )\n",
    "\n",
    "# dataset = load('openbmi_session-dependent')\n",
    "# dataset = trans(dataset)\n",
    "# cls_name = ['right_hand', 'left_hand']\n",
    "\n",
    "# net = EEGConformer(nCh=20, nTime=1000, cls=2)\n",
    "# trainer = dpeeg.TrainClassifier(net, nGPU=1, lr=0.0001, batch_size=64)\n",
    "# exp = dpeeg.KFold(trainer, out_folder='out')\n",
    "# res = exp.run(dataset, cls_name, dataset_name='OpenBMI_SD')"
   ]
  },
  {
   "cell_type": "markdown",
   "metadata": {},
   "source": [
    "# Subject-Dependent & Session-Independent"
   ]
  },
  {
   "cell_type": "markdown",
   "metadata": {},
   "source": [
    "## bciciv2a"
   ]
  },
  {
   "cell_type": "code",
   "execution_count": null,
   "metadata": {
    "metadata": {}
   },
   "outputs": [],
   "source": [
    "# from dpeeg.data import transforms, datasets\n",
    "\n",
    "# trans = transforms.ComposeTransforms(\n",
    "#     transforms.Normalization(),\n",
    "#     transforms.ApplyFunc(butter_bandpass_filter),\n",
    "#     transforms.Augmentation('segmentation_and_reconstruction', multiply=1),\n",
    "#     transforms.Unsqueeze(),\n",
    "# )\n",
    "\n",
    "# dataset = datasets.BCICIV2A(transforms=trans)\n",
    "\n",
    "# net = EEGConformer(nCh=22, nTime=1000, cls=4)\n",
    "# trainer = dpeeg.TrainClassifier(net, nGPU=1, lr=0.0001, data_size=dataset.size, batch_size=128)\n",
    "# exp = dpeeg.KFold(trainer, k=5, out_folder='out', no_increase_epochs=150)\n",
    "# res = exp.run(dataset, dataset.cls_name, dataset_name='BCICIV2A_SI')"
   ]
  },
  {
   "cell_type": "markdown",
   "metadata": {},
   "source": [
    "## bciciv2b"
   ]
  },
  {
   "cell_type": "code",
   "execution_count": null,
   "metadata": {
    "metadata": {}
   },
   "outputs": [],
   "source": [
    "# from dpeeg.data import transforms, datasets\n",
    "\n",
    "# trans = transforms.ComposeTransforms(\n",
    "#     transforms.Normalization(),\n",
    "#     # Note: Experimental results: This filter preprocessing operation will cause the decoding performance to drop to: 80.11%±13.50\n",
    "#     # transforms.ApplyFunc(butter_bandpass_filter),     \n",
    "#     transforms.Augmentation('segmentation_and_reconstruction', multiply=1),\n",
    "#     transforms.Unsqueeze(),\n",
    "# )\n",
    "\n",
    "# dataset = datasets.BCICIV2B(transforms=trans, test_sessions=[3, 4])\n",
    "\n",
    "# net = EEGConformer(nCh=3, nTime=1000, cls=2)\n",
    "# trainer = dpeeg.TrainClassifier(net, nGPU=1, lr=0.0001, data_size=dataset.size, batch_size=128)\n",
    "# exp = dpeeg.KFold(trainer, out_folder='out', no_increase_epochs=150)\n",
    "# res = exp.run(dataset, dataset.cls_name, dataset_name='BCICIV2B_SI')"
   ]
  },
  {
   "cell_type": "markdown",
   "metadata": {},
   "source": [
    "## openbmi"
   ]
  },
  {
   "cell_type": "code",
   "execution_count": null,
   "metadata": {
    "metadata": {}
   },
   "outputs": [],
   "source": [
    "# from dpeeg.data import transforms, load\n",
    "\n",
    "# trans = transforms.ComposeTransforms(\n",
    "#     transforms.ApplyFunc(butter_bandpass_filter),\n",
    "#     transforms.Augmentation('segmentation_and_reconstruction', multiply=1),\n",
    "#     transforms.Unsqueeze()\n",
    "# )\n",
    "\n",
    "# dataset = load('openbmi_session-independent')\n",
    "# dataset = trans(dataset)\n",
    "# cls_name = ['right_hand', 'left_hand']\n",
    "\n",
    "# net = EEGConformer(nCh=20, nTime=1000, cls=2)\n",
    "# trainer = dpeeg.TrainClassifier(net, nGPU=1, lr=0.0001, batch_size=128)\n",
    "# exp = dpeeg.KFold(trainer, out_folder='out', no_increase_epochs=150)\n",
    "# results = exp.run(dataset, cls_name, dataset_name='OpenBMI_SI')"
   ]
  },
  {
   "cell_type": "markdown",
   "metadata": {},
   "source": [
    "# Subject-Independent"
   ]
  },
  {
   "cell_type": "markdown",
   "metadata": {},
   "source": [
    "## bciciv2a"
   ]
  },
  {
   "cell_type": "code",
   "execution_count": null,
   "metadata": {
    "metadata": {}
   },
   "outputs": [],
   "source": [
    "# from dpeeg.data import transforms, datasets\n",
    "\n",
    "# trans = transforms.ComposeTransforms(\n",
    "#     transforms.Normalization(),\n",
    "#     # Note: Experimental results: This filter preprocessing operation will cause the decoding performance to drop to: 43.40%±15.19\n",
    "#     # transforms.ApplyFunc(butter_bandpass_filter),\n",
    "#     transforms.Unsqueeze(),\n",
    "# )\n",
    "\n",
    "# dataset = datasets.BCICIV2A(transforms=trans)\n",
    "\n",
    "# net = EEGConformer(nCh=22, nTime=1000, cls=4)\n",
    "# trainer = dpeeg.TrainClassifier(net, nGPU=1, data_size=dataset.size, lr=0.0002, batch_size=512)\n",
    "# exp = dpeeg.LOSO_HO(trainer, out_folder='out', max_epochs_s1=500, max_epochs_s2=200)\n",
    "# results = exp.run(dataset, cls_name=dataset.cls_name)"
   ]
  },
  {
   "cell_type": "markdown",
   "metadata": {},
   "source": [
    "## bciciv2b"
   ]
  },
  {
   "cell_type": "code",
   "execution_count": null,
   "metadata": {
    "metadata": {}
   },
   "outputs": [],
   "source": [
    "# from dpeeg.data import transforms, datasets\n",
    "\n",
    "# trans = transforms.ComposeTransforms(\n",
    "#     transforms.Normalization(),\n",
    "#     # Note: Experimental results: This filter preprocessing operation will cause the decoding performance to drop to: 70.25%±10.92\n",
    "#     # transforms.ApplyFunc(butter_bandpass_filter),\n",
    "#     transforms.Unsqueeze(),\n",
    "# )\n",
    "\n",
    "# dataset = datasets.BCICIV2B(transforms=trans, test_sessions=[3, 4])\n",
    "# net = EEGConformer(nCh=3, nTime=1000, cls=2)\n",
    "# trainer = dpeeg.TrainClassifier(net, nGPU=1, data_size=dataset.size, lr=0.0002, batch_size=512)\n",
    "# exp = dpeeg.LOSO_HO(trainer, out_folder='out', max_epochs_s1=500, no_increase_epochs=40, max_epochs_s2=200)\n",
    "# res = exp.run(dataset, dataset.cls_name)"
   ]
  },
  {
   "cell_type": "markdown",
   "metadata": {},
   "source": [
    "## openbmi"
   ]
  },
  {
   "cell_type": "code",
   "execution_count": null,
   "metadata": {
    "metadata": {}
   },
   "outputs": [],
   "source": [
    "# from dpeeg.data import transforms, load\n",
    "\n",
    "# trans = transforms.ComposeTransforms(\n",
    "#     transforms.ApplyFunc(butter_bandpass_filter),\n",
    "#     transforms.Unsqueeze()\n",
    "# )\n",
    "\n",
    "# dataset = load('openbmi_session-independent')\n",
    "# dataset = trans(dataset)\n",
    "# cls_name = ['right_hand', 'left_hand']\n",
    "\n",
    "# net = EEGConformer(nCh=20, nTime=1000, cls=2)\n",
    "# trainer = dpeeg.TrainClassifier(net, nGPU=1, lr=0.0002, batch_size=512)\n",
    "# exp = dpeeg.LOSO_HO(trainer, out_folder='out', max_epochs_s1=500, no_increase_epochs=40, max_epochs_s2=200)\n",
    "# results = exp.run(dataset, cls_name, dataset_name='OpenBMI')"
   ]
  }
 ],
 "metadata": {
  "kernelspec": {
   "display_name": "bci",
   "language": "python",
   "name": "python3"
  },
  "language_info": {
   "codemirror_mode": {
    "name": "ipython",
    "version": 3
   },
   "file_extension": ".py",
   "mimetype": "text/x-python",
   "name": "python",
   "nbconvert_exporter": "python",
   "pygments_lexer": "ipython3",
   "version": "3.10.13"
  }
 },
 "nbformat": 4,
 "nbformat_minor": 2
}
