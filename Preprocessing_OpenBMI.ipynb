{
 "cells": [
  {
   "cell_type": "markdown",
   "metadata": {},
   "source": [
    "> Since the OpenBMI data has 54 subjects and the sampling rate is 1000Hz, using `moabb` to read all subjects into memory at one time and then perform corresponding preprocessing on the data set may cause excessive memory usage. However, `dpeeg` has not yet implemented a method to save memory by reading one subject at a time during training (a data set download similar to `moabb` may be added in the future to customize the data set format of `dpeeg` to achieve more refinement Experimental method), so this article adopts a compromise method to preprocess all the data and then read it into the memory at once."
   ]
  },
  {
   "cell_type": "markdown",
   "metadata": {},
   "source": [
    "# Session-Independent"
   ]
  },
  {
   "cell_type": "code",
   "execution_count": null,
   "metadata": {},
   "outputs": [],
   "source": [
    "import mne\n",
    "import numpy as np\n",
    "from moabb.datasets import Lee2019_MI\n",
    "\n",
    "OpenBMI = Lee2019_MI(test_run=True)\n",
    "picks = [\n",
    "    'FC5', 'FC3', 'FC1', 'FC2', 'FC4', 'FC6', \n",
    "    'C5', 'C3', 'C1', 'Cz', 'C2', 'C4', 'C6', \n",
    "    'CP5', 'CP3', 'CP1', 'CPz', 'CP2', 'CP4', 'CP6'\n",
    "]\n",
    "event_id = {'left_hand': 1, 'right_hand': 0}\n",
    "dataset = {}\n",
    "\n",
    "for sub in range(1, 55):\n",
    "    print('-'*15, sub, '-'*15)\n",
    "    dataset[sub] = {}\n",
    "    sub_data = OpenBMI.get_data([sub])\n",
    "\n",
    "    for sess, runs in sub_data[sub].items():\n",
    "        data_list, label_list = [], []\n",
    "        for raw in runs.values():\n",
    "            raw.resample(250)\n",
    "            events = mne.find_events(raw)\n",
    "            events[:, -1] -= 1\n",
    "            epochs = mne.Epochs(raw, events, event_id, 0, 4, None, picks, preload=True)\n",
    "            epochs_data = epochs.get_data()[:, :, :-1] * 1e6\n",
    "            data_list.append(epochs_data)\n",
    "            label_list.append(events[:, -1])\n",
    "\n",
    "        data = np.concatenate(data_list)\n",
    "        label = np.concatenate(label_list)\n",
    "        if sess == 'session_1':\n",
    "            dataset[sub]['train'] = [data, label]\n",
    "        elif sess == 'session_2':\n",
    "            dataset[sub]['test'] = [data, label]\n",
    "        else:\n",
    "            raise KeyError(f'Unable to parse {sess}.')\n",
    "\n",
    "from dpeeg.data import transforms\n",
    "\n",
    "trans = transforms.Save('openbmi_session-independent')\n",
    "trans(dataset)"
   ]
  },
  {
   "cell_type": "markdown",
   "metadata": {},
   "source": [
    "# Session-Dependent"
   ]
  },
  {
   "cell_type": "code",
   "execution_count": null,
   "metadata": {},
   "outputs": [],
   "source": [
    "import mne\n",
    "import numpy as np\n",
    "from moabb.datasets import Lee2019_MI\n",
    "\n",
    "OpenBMI = Lee2019_MI(test_run=True)\n",
    "picks = [\n",
    "    'FC5', 'FC3', 'FC1', 'FC2', 'FC4', 'FC6', \n",
    "    'C5', 'C3', 'C1', 'Cz', 'C2', 'C4', 'C6', \n",
    "    'CP5', 'CP3', 'CP1', 'CPz', 'CP2', 'CP4', 'CP6'\n",
    "]\n",
    "event_id = {'left_hand': 1, 'right_hand': 0}\n",
    "dataset = {}\n",
    "\n",
    "for sub in range(1, 55):\n",
    "    print('-'*15, sub, '-'*15)\n",
    "    dataset[sub] = {}\n",
    "    sub_data = OpenBMI.get_data([sub])\n",
    "\n",
    "    for sess, runs in sub_data[sub].items():\n",
    "        if sess == 'session_2':\n",
    "            continue\n",
    "\n",
    "        data_list, label_list = [], []\n",
    "        for raw in runs.values():\n",
    "            raw.resample(250)\n",
    "            events = mne.find_events(raw)\n",
    "            events[:, -1] -= 1\n",
    "            epochs = mne.Epochs(raw, events, event_id, 0, 4, None, picks, preload=True)\n",
    "            epochs_data = epochs.get_data()[:, :, :-1] * 1e6\n",
    "            data_list.append(epochs_data)\n",
    "            label_list.append(events[:, -1])\n",
    "\n",
    "        data = np.concatenate(data_list)\n",
    "        label = np.concatenate(label_list)\n",
    "        if sess == 'session_1':\n",
    "            dataset[sub] = [data, label]\n",
    "        else:\n",
    "            raise KeyError(f'Unable to parse {sess}.')\n",
    "\n",
    "from dpeeg.data import transforms\n",
    "\n",
    "trans = transforms.ComposeTransforms(\n",
    "    transforms.SplitTrainTest(),\n",
    "    transforms.Save('openbmi_session-dependent')\n",
    ")\n",
    "trans(dataset)"
   ]
  },
  {
   "cell_type": "code",
   "execution_count": null,
   "metadata": {},
   "outputs": [],
   "source": [
    "from dpeeg.data.functions import load\n",
    "\n",
    "dataset = load('./openbmi_session-dependent/')"
   ]
  },
  {
   "cell_type": "code",
   "execution_count": null,
   "metadata": {},
   "outputs": [],
   "source": [
    "dataset[1]['train'][0].shape"
   ]
  }
 ],
 "metadata": {
  "kernelspec": {
   "display_name": "bci",
   "language": "python",
   "name": "python3"
  },
  "language_info": {
   "codemirror_mode": {
    "name": "ipython",
    "version": 3
   },
   "file_extension": ".py",
   "mimetype": "text/x-python",
   "name": "python",
   "nbconvert_exporter": "python",
   "pygments_lexer": "ipython3",
   "version": "3.10.13"
  }
 },
 "nbformat": 4,
 "nbformat_minor": 2
}
